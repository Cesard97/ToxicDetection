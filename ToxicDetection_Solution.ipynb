{
 "cells": [
  {
   "cell_type": "markdown",
   "id": "bf3a7de6",
   "metadata": {},
   "source": [
    "# Toxic Detection\n",
    "\n",
    "## Prueba Técnica: Mercado Libre\n",
    "\n",
    "**Marzo 2023**\n",
    "\n",
    "*César Daniel Garrido Urbano*\n"
   ]
  },
  {
   "cell_type": "markdown",
   "id": "2b4bf855",
   "metadata": {},
   "source": [
    "## Descripción\n",
    "\n",
    "El objetivo es construir un sistema para detectar automáticamente textos que contienen lenguaje ofensivo (inclusive de género, raza, etc...) o vulgar.\n",
    "\n",
    "Para esto debes generar un modelo de clasificación utilizando un esquema basado en árboles de decisión. (Por ejemplo: Random Forest, XGBoost, LightGBM, etc...).\n",
    "\n",
    "El proceso de desarrollo debe seguir el flujo completo de modelado en machine learning (análisis de datos, feature engineering, selección de modelo, métricas) con reporte de resultados y proceso. Toda decisión tomada dentro del pipeline debe ser agregada al reporte.\n",
    "\n",
    "Luego de haber seleccionado el mejor modelo de clasificación, para el reporte, haz un análisis comparativo de los dos mejores modelos que hayas obtenido con la métrica que consideres se adapta mejor al problema.\n"
   ]
  },
  {
   "cell_type": "markdown",
   "id": "1660b7d8",
   "metadata": {},
   "source": [
    "# Exploración Inicial de los datos\n",
    "\n",
    "Visualización, split en enetrenamiento y prueba, preprocesamiento (tokenización) y limpieza general de los datos."
   ]
  },
  {
   "cell_type": "code",
   "execution_count": 1,
   "id": "25259146",
   "metadata": {},
   "outputs": [],
   "source": [
    "# Main libraries\n",
    "import string\n",
    "import re\n",
    "import numpy as np\n",
    "import pandas as pd\n",
    "import matplotlib.pyplot as plt\n",
    "\n",
    "from tqdm import tqdm"
   ]
  },
  {
   "cell_type": "code",
   "execution_count": 2,
   "id": "81bda3be",
   "metadata": {},
   "outputs": [
    {
     "data": {
      "text/html": [
       "<div>\n",
       "<style scoped>\n",
       "    .dataframe tbody tr th:only-of-type {\n",
       "        vertical-align: middle;\n",
       "    }\n",
       "\n",
       "    .dataframe tbody tr th {\n",
       "        vertical-align: top;\n",
       "    }\n",
       "\n",
       "    .dataframe thead th {\n",
       "        text-align: right;\n",
       "    }\n",
       "</style>\n",
       "<table border=\"1\" class=\"dataframe\">\n",
       "  <thead>\n",
       "    <tr style=\"text-align: right;\">\n",
       "      <th></th>\n",
       "      <th>message</th>\n",
       "      <th>label</th>\n",
       "    </tr>\n",
       "  </thead>\n",
       "  <tbody>\n",
       "    <tr>\n",
       "      <th>0</th>\n",
       "      <td>Hola, dale actualizar a la pagina o la tecla F5</td>\n",
       "      <td>0</td>\n",
       "    </tr>\n",
       "    <tr>\n",
       "      <th>1</th>\n",
       "      <td>Ningún mujer te va a dejar por un error. porque todos somos humanos y el algún momento la cagamos pero siempre hay la oportunidad de mejorar en la cagas que uno hace y más si te hace feliz</td>\n",
       "      <td>1</td>\n",
       "    </tr>\n",
       "    <tr>\n",
       "      <th>2</th>\n",
       "      <td>Entonces, si está haciendo una correspondencia en R ^ 2, ¿cómo dibujaría G (x) = {y es un elemento de R2 tal que el producto escalar de x e y es 0} si G (3,4)</td>\n",
       "      <td>0</td>\n",
       "    </tr>\n",
       "    <tr>\n",
       "      <th>3</th>\n",
       "      <td>victoria con el pelito corto me voy a matar</td>\n",
       "      <td>1</td>\n",
       "    </tr>\n",
       "    <tr>\n",
       "      <th>4</th>\n",
       "      <td>@LoloPeniche Periodista!!!!!\\nEs una puta verdulera la HDSPTM... https://t.co/6wyiTra4ko</td>\n",
       "      <td>1</td>\n",
       "    </tr>\n",
       "    <tr>\n",
       "      <th>...</th>\n",
       "      <td>...</td>\n",
       "      <td>...</td>\n",
       "    </tr>\n",
       "    <tr>\n",
       "      <th>514550</th>\n",
       "      <td>Argentina: *apoya a la Alemania Nazi en la guerra*\\nAlemania: *pierde la guerra*\\nArgentina teniendo que explicarle la situación al resto del mundo: https://t.co/eQo4Pqru2r</td>\n",
       "      <td>1</td>\n",
       "    </tr>\n",
       "    <tr>\n",
       "      <th>514551</th>\n",
       "      <td>La rata esta de @robertomadrazo invitando a votar, ya pasó no??, para darle aire a su partido corrupto y hablando de tiranías. No mames ratero que te compre quien no te conoce. https://t.co/T7Xm9ZLJxE</td>\n",
       "      <td>1</td>\n",
       "    </tr>\n",
       "    <tr>\n",
       "      <th>514552</th>\n",
       "      <td>No dale no hay problema muchísimas gracias no me sabía ese dato no encuentro problema alguno solo me surgió esa duda espero no haber incómodado muchas gracias</td>\n",
       "      <td>0</td>\n",
       "    </tr>\n",
       "    <tr>\n",
       "      <th>514553</th>\n",
       "      <td>Mi nombre es \"onassis amaya   cc 84083683</td>\n",
       "      <td>0</td>\n",
       "    </tr>\n",
       "    <tr>\n",
       "      <th>514554</th>\n",
       "      <td>Hola buenas tardes me podrian indicar donde puedo llevar el reloj por garantia se los compre en el mes de febrero. Gracias</td>\n",
       "      <td>0</td>\n",
       "    </tr>\n",
       "  </tbody>\n",
       "</table>\n",
       "<p>514555 rows × 2 columns</p>\n",
       "</div>"
      ],
      "text/plain": [
       "                                                                                                                                                                                                         message  \\\n",
       "0                                                                                                                                                                Hola, dale actualizar a la pagina o la tecla F5   \n",
       "1                   Ningún mujer te va a dejar por un error. porque todos somos humanos y el algún momento la cagamos pero siempre hay la oportunidad de mejorar en la cagas que uno hace y más si te hace feliz   \n",
       "2                                                 Entonces, si está haciendo una correspondencia en R ^ 2, ¿cómo dibujaría G (x) = {y es un elemento de R2 tal que el producto escalar de x e y es 0} si G (3,4)   \n",
       "3                                                                                                                                                                    victoria con el pelito corto me voy a matar   \n",
       "4                                                                                                                       @LoloPeniche Periodista!!!!!\\nEs una puta verdulera la HDSPTM... https://t.co/6wyiTra4ko   \n",
       "...                                                                                                                                                                                                          ...   \n",
       "514550                              Argentina: *apoya a la Alemania Nazi en la guerra*\\nAlemania: *pierde la guerra*\\nArgentina teniendo que explicarle la situación al resto del mundo: https://t.co/eQo4Pqru2r   \n",
       "514551  La rata esta de @robertomadrazo invitando a votar, ya pasó no??, para darle aire a su partido corrupto y hablando de tiranías. No mames ratero que te compre quien no te conoce. https://t.co/T7Xm9ZLJxE   \n",
       "514552                                            No dale no hay problema muchísimas gracias no me sabía ese dato no encuentro problema alguno solo me surgió esa duda espero no haber incómodado muchas gracias   \n",
       "514553                                                                                                                                                                 Mi nombre es \"onassis amaya   cc 84083683   \n",
       "514554                                                                                Hola buenas tardes me podrian indicar donde puedo llevar el reloj por garantia se los compre en el mes de febrero. Gracias   \n",
       "\n",
       "        label  \n",
       "0           0  \n",
       "1           1  \n",
       "2           0  \n",
       "3           1  \n",
       "4           1  \n",
       "...       ...  \n",
       "514550      1  \n",
       "514551      1  \n",
       "514552      0  \n",
       "514553      0  \n",
       "514554      0  \n",
       "\n",
       "[514555 rows x 2 columns]"
      ]
     },
     "execution_count": 2,
     "metadata": {},
     "output_type": "execute_result"
    }
   ],
   "source": [
    "# Set pandas columns option\n",
    "pd.set_option('display.max_colwidth', 500)\n",
    "pd.set_option(\"max_rows\", 30)\n",
    "\n",
    "# Import data\n",
    "raw_df = pd.read_csv('data_toxic.csv')\n",
    "\n",
    "# Dataset overview\n",
    "raw_df"
   ]
  },
  {
   "cell_type": "code",
   "execution_count": 3,
   "id": "591e5350",
   "metadata": {},
   "outputs": [
    {
     "data": {
      "text/html": [
       "<div>\n",
       "<style scoped>\n",
       "    .dataframe tbody tr th:only-of-type {\n",
       "        vertical-align: middle;\n",
       "    }\n",
       "\n",
       "    .dataframe tbody tr th {\n",
       "        vertical-align: top;\n",
       "    }\n",
       "\n",
       "    .dataframe thead th {\n",
       "        text-align: right;\n",
       "    }\n",
       "</style>\n",
       "<table border=\"1\" class=\"dataframe\">\n",
       "  <thead>\n",
       "    <tr style=\"text-align: right;\">\n",
       "      <th></th>\n",
       "      <th>message</th>\n",
       "    </tr>\n",
       "    <tr>\n",
       "      <th>label</th>\n",
       "      <th></th>\n",
       "    </tr>\n",
       "  </thead>\n",
       "  <tbody>\n",
       "    <tr>\n",
       "      <th>0</th>\n",
       "      <td>295937</td>\n",
       "    </tr>\n",
       "    <tr>\n",
       "      <th>1</th>\n",
       "      <td>218618</td>\n",
       "    </tr>\n",
       "  </tbody>\n",
       "</table>\n",
       "</div>"
      ],
      "text/plain": [
       "       message\n",
       "label         \n",
       "0       295937\n",
       "1       218618"
      ]
     },
     "execution_count": 3,
     "metadata": {},
     "output_type": "execute_result"
    }
   ],
   "source": [
    "raw_df.groupby(['label']).count()"
   ]
  },
  {
   "cell_type": "code",
   "execution_count": 4,
   "id": "da4ff642",
   "metadata": {},
   "outputs": [],
   "source": [
    "# Simplifiación temporal del problema (100.000 mensajes)\n",
    "sample_df = raw_df.head(100000)"
   ]
  },
  {
   "cell_type": "markdown",
   "id": "4b05f38b",
   "metadata": {},
   "source": [
    "## _Split_ en _training_ y _testing_"
   ]
  },
  {
   "cell_type": "code",
   "execution_count": 5,
   "id": "e62806c0",
   "metadata": {},
   "outputs": [],
   "source": [
    "from sklearn.model_selection import train_test_split\n",
    "\n",
    "X_train, X_test, y_train, y_test = train_test_split(sample_df.message.values, sample_df.label.values, test_size=0.20, random_state=42)"
   ]
  },
  {
   "cell_type": "markdown",
   "id": "e48fafd7",
   "metadata": {},
   "source": [
    "## Pre-procesamiento de los datos"
   ]
  },
  {
   "cell_type": "markdown",
   "id": "ad95c967",
   "metadata": {},
   "source": [
    "### Tokenización"
   ]
  },
  {
   "cell_type": "code",
   "execution_count": 6,
   "id": "805fff8e",
   "metadata": {},
   "outputs": [],
   "source": [
    "from unicodedata import normalize\n",
    "\n",
    "# NLTK \n",
    "from nltk.tokenize import TweetTokenizer\n",
    "from nltk.corpus import stopwords\n",
    "from nltk.stem import SnowballStemmer"
   ]
  },
  {
   "cell_type": "code",
   "execution_count": 7,
   "id": "33c128a0",
   "metadata": {},
   "outputs": [],
   "source": [
    "# Función para estandarizar el preprocesamiento.\n",
    "\n",
    "def preprocess_text(text, tokenizer=None, stemmer=None, stop_words=None):\n",
    "    \"\"\" Aplica un preprocesamiento estandar a un mensaje (text), tokenizandolo y limpiando los caracteres.\n",
    "    \n",
    "    Args:\n",
    "        text (str): Mensaje a ser preprocesado\n",
    "        tokenizer (nltk.tokenize.Tokenizer): Tokenizador (Objeto para convertir mensajes en tokens).\n",
    "        stemmer (nltk.stem.Stemmer): Stemmer (Objeto que normaliza o reduce las palabras a su raiz).\n",
    "        stop_words ([str]): Lista de palabras a ser removidas por ser tan repetidas (tipicamente articulos).\n",
    "    \n",
    "    Returns:\n",
    "        preprocessed_text ([str]): Lista de tokens preprocesados del mensaje inicial.\n",
    "    \n",
    "    \"\"\"\n",
    "    # Quitar acentos\n",
    "    text_norm = normalize('NFKD', text).encode('ascii', 'ignore').decode('utf-8', 'ignore').lower()\n",
    "    \n",
    "    # Tokenizacion y estandarizacion en minusculas\n",
    "    text_tk = tokenizer.tokenize(text_norm)\n",
    "    \n",
    "    # Remover signos de puntuación + stop words + URLs\n",
    "    relevant_tk = []\n",
    "    for tk in text_tk:\n",
    "        if (tk not in string.punctuation+'¿') and (tk not in stop_words) and ('http' not in tk):\n",
    "            relevant_tk.append(tk)   \n",
    "    \n",
    "    # Stemmer (Reducir la palabra a su raiz)\n",
    "    # processed_text=[]\n",
    "    # for tk in relevant_tk:\n",
    "    #     processed_text.append(stemmer.stem(tk))\n",
    "    \n",
    "    # Returns processed text\n",
    "    return relevant_tk"
   ]
  },
  {
   "cell_type": "code",
   "execution_count": 8,
   "id": "ad98543e",
   "metadata": {},
   "outputs": [
    {
     "name": "stderr",
     "output_type": "stream",
     "text": [
      "100%|██████████| 80000/80000 [00:15<00:00, 5189.33it/s]\n",
      "100%|██████████| 20000/20000 [00:03<00:00, 5269.16it/s]\n"
     ]
    }
   ],
   "source": [
    "# Tokenizador para tweets\n",
    "tt = TweetTokenizer(preserve_case=False, reduce_len=True, strip_handles=True)\n",
    "# Stemmer y stop-words en español\n",
    "stemmer = SnowballStemmer('spanish')\n",
    "stop_words = stopwords.words('spanish')\n",
    "\n",
    "# Tokenize messages\n",
    "X_train_tk = []\n",
    "X_test_tk = []\n",
    "\n",
    "for txt in tqdm(X_train):\n",
    "    X_train_tk.append(preprocess_text(txt, tt, stemmer, stop_words))\n",
    "    \n",
    "for txt in tqdm(X_test):\n",
    "    X_test_tk.append(preprocess_text(txt, tt, stemmer, stop_words))"
   ]
  },
  {
   "cell_type": "code",
   "execution_count": 9,
   "id": "b11a62be",
   "metadata": {},
   "outputs": [
    {
     "name": "stdout",
     "output_type": "stream",
     "text": [
      "Ejemplos de Tokenización:\n",
      "\n",
      "Buenas tardes, para el envio necesitamos que nos regales estos datos: Nombre completo,telefono, direccion completa, municipio y departamento.\n",
      "['buenas', 'tardes', 'envio', 'necesitamos', 'regales', 'datos', 'nombre', 'completo', 'telefono', 'direccion', 'completa', 'municipio', 'departamento']\n",
      "\n",
      "Todavía no me gusta La foto recortada me molesta aún más. Por cierto, por favor discuta en mi página de discusión por qué sigue destrozando la imagen de Zootopia.\n",
      "['todavia', 'gusta', 'foto', 'recortada', 'molesta', 'aun', 'mas', 'cierto', 'favor', 'discuta', 'pagina', 'discusion', 'sigue', 'destrozando', 'imagen', 'zootopia']\n",
      "\n",
      "Necesito comprar 3 unidades\n",
      "['necesito', 'comprar', '3', 'unidades']\n"
     ]
    }
   ],
   "source": [
    "# Ejemplo de Tokenización\n",
    "print(\"Ejemplos de Tokenización:\\n\")\n",
    "print(X_train[0]) \n",
    "print(X_train_tk[0])\n",
    "print(\"\")\n",
    "print(X_train[2]) \n",
    "print(X_train_tk[2])\n",
    "print(\"\")\n",
    "print(X_train[4]) \n",
    "print(X_train_tk[4])"
   ]
  },
  {
   "cell_type": "code",
   "execution_count": 10,
   "id": "eafda20a",
   "metadata": {},
   "outputs": [
    {
     "data": {
      "image/png": "[encoded data removed]",
      "text/plain": [
       "<Figure size 864x576 with 1 Axes>"
      ]
     },
     "metadata": {
      "needs_background": "light"
     },
     "output_type": "display_data"
    },
    {
     "name": "stdout",
     "output_type": "stream",
     "text": [
      "Tamaño promedio (mean) de los mensajes:\n",
      "11.6139625\n",
      "Tamaño medio (median) de los mensajes:\n",
      "9.0\n"
     ]
    }
   ],
   "source": [
    "# Histograma (Longitud de mensajes)\n",
    "\n",
    "msgs_length = []\n",
    "for x in X_train_tk:\n",
    "    msgs_length.append(len(x))\n",
    "\n",
    "# Number of bins\n",
    "bins= np.max(np.array(msgs_length))\n",
    "\n",
    "# Plot\n",
    "fig = plt.figure(figsize=(12,8))\n",
    "plt.hist(np.array(msgs_length), bins=bins)\n",
    "plt.xlim([1, 75])\n",
    "plt.xlabel('Longitud del mensaje', fontsize=14)\n",
    "plt.ylabel('Count', fontsize=14)\n",
    "plt.title('Histograma', fontsize=18)\n",
    "plt.grid(True)\n",
    "plt.savefig(\"./results/histogram.png\")\n",
    "plt.show()\n",
    "\n",
    "# Print some metrics\n",
    "print('Tamaño promedio (mean) de los mensajes:')\n",
    "print(np.mean(np.array(msgs_length)))\n",
    "\n",
    "print('Tamaño medio (median) de los mensajes:')\n",
    "print(np.median(np.array(msgs_length)))"
   ]
  },
  {
   "cell_type": "markdown",
   "id": "2571a437",
   "metadata": {},
   "source": [
    "## Embeddings\n",
    "\n",
    "Representación de las sentencias (tokens) como vectores."
   ]
  },
  {
   "cell_type": "code",
   "execution_count": 11,
   "id": "c351c142",
   "metadata": {},
   "outputs": [
    {
     "name": "stderr",
     "output_type": "stream",
     "text": [
      "D:\\anaconda3\\lib\\site-packages\\gensim\\similarities\\__init__.py:15: UserWarning: The gensim.similarities.levenshtein submodule is disabled, because the optional Levenshtein package <https://pypi.org/project/python-Levenshtein/> is unavailable. Install Levenhstein (e.g. `pip install python-Levenshtein`) to suppress this warning.\n",
      "  warnings.warn(msg)\n"
     ]
    }
   ],
   "source": [
    "from sklearn.decomposition import PCA, IncrementalPCA\n",
    "from gensim import corpora"
   ]
  },
  {
   "cell_type": "markdown",
   "id": "98e27b7e",
   "metadata": {},
   "source": [
    "### Modelo Bag of Words (BOW)"
   ]
  },
  {
   "cell_type": "code",
   "execution_count": 12,
   "id": "cbb8c483",
   "metadata": {},
   "outputs": [
    {
     "name": "stdout",
     "output_type": "stream",
     "text": [
      "Diccionario de palabras construido a partir del set de mensajes:\n",
      "Dictionary(8852 unique tokens: ['buenas', 'completa', 'completo', 'datos', 'departamento']...)\n"
     ]
    }
   ],
   "source": [
    "# Crear diccionario de palabras\n",
    "dict_msgs = corpora.Dictionary(X_train_tk)\n",
    "dict_msgs.filter_extremes(no_below=10, no_above=0.5)\n",
    "\n",
    "print('Diccionario de palabras construido a partir del set de mensajes:')\n",
    "print(dict_msgs)"
   ]
  },
  {
   "cell_type": "code",
   "execution_count": 13,
   "id": "abfa1a2f",
   "metadata": {},
   "outputs": [],
   "source": [
    "# Crear corpus con representación BOW\n",
    "train_corpus = []\n",
    "for msg in X_train_tk:\n",
    "    train_corpus.append(dict_msgs.doc2bow(msg))\n",
    "    \n",
    "test_corpus = []\n",
    "for msg in X_test_tk:\n",
    "    test_corpus.append(dict_msgs.doc2bow(msg))"
   ]
  },
  {
   "cell_type": "code",
   "execution_count": 14,
   "id": "f95c5b88",
   "metadata": {},
   "outputs": [],
   "source": [
    "# Crear matriz de caracteristicas BOW\n",
    "X_train_bow = np.zeros((len(train_corpus), len(dict_msgs)), dtype = np.int8)\n",
    "X_test_bow = np.zeros((len(test_corpus), len(dict_msgs)), dtype = np.int8)\n",
    "\n",
    "# Llenar matrices\n",
    "for i, msg in enumerate(train_corpus):\n",
    "    for term in msg:\n",
    "        X_train_bow[i][term[0]] = term[1]\n",
    "        \n",
    "for i, msg in enumerate(test_corpus):\n",
    "    for term in msg:\n",
    "        X_test_bow[i][term[0]] = term[1]"
   ]
  },
  {
   "cell_type": "code",
   "execution_count": 15,
   "id": "aa8290ef",
   "metadata": {},
   "outputs": [],
   "source": [
    "np.save(\"X_test_bow.npy\", X_test_bow)\n",
    "np.save(\"X_train_bow.npy\", X_train_bow)"
   ]
  },
  {
   "cell_type": "markdown",
   "id": "b06ef401",
   "metadata": {},
   "source": [
    "#### Dimentionality Reduction (PCA)"
   ]
  },
  {
   "cell_type": "code",
   "execution_count": 17,
   "id": "e4c6927a",
   "metadata": {},
   "outputs": [],
   "source": [
    "# PCA\n",
    "# X_train_bow_mm = np.memmap(\"X_train_bow.npy\")\n",
    "# X_test_bow_mm = np.memmap(\"X_test_bow.npy\")                 \n",
    "\n",
    "pca = IncrementalPCA(n_components=1000, batch_size=10000)\n",
    "X_train_bow_pca = pca.fit_transform(X_train_bow)\n",
    "X_test_bow_pca = pca.transform(X_test_bow)"
   ]
  },
  {
   "cell_type": "markdown",
   "id": "18586bc8",
   "metadata": {},
   "source": [
    "### Modelo Word2Vec"
   ]
  },
  {
   "cell_type": "code",
   "execution_count": 18,
   "id": "6d267bdb",
   "metadata": {},
   "outputs": [],
   "source": [
    "from gensim import models"
   ]
  },
  {
   "cell_type": "code",
   "execution_count": 19,
   "id": "610d61d7",
   "metadata": {},
   "outputs": [],
   "source": [
    "def get_vectors_from_w2v_model(w2v_model, X_tk, agg_method='avg'):\n",
    "    \n",
    "    # Convert sentence to vectors\n",
    "    words = set(w2v_model.wv.index_to_key)\n",
    "    X_w2v = np.array([np.array([w2v_model_150.wv[i] for i in ls if i in words]) for ls in X_tk])\n",
    "    \n",
    "    # Aggregate vectors in sentence\n",
    "    if agg_method=='avg':\n",
    "        # Promedio\n",
    "        X_w2v_agg = []\n",
    "        for x in X_w2v:\n",
    "            if len(x) == 0:\n",
    "                x_avg = np.zeros(vec_size)\n",
    "            else:\n",
    "                x_avg = np.mean(x, axis=0)\n",
    "            X_w2v_agg.append(x_avg)\n",
    "            \n",
    "    elif agg_method=='concat':\n",
    "        # Concatenacion\n",
    "        X_w2v_agg = []\n",
    "        for x in X_w2v:\n",
    "            x_concat = x.flatten()\n",
    "            if len(x_concat) < 1:\n",
    "                x_concat = np.zeros(sentence_size)\n",
    "            elif len(x_concat) < sentence_size:\n",
    "                x_concat = np.append(x_concat, np.zeros(sentence_size-len(x_concat)))\n",
    "            elif len(x_concat) > sentence_size:\n",
    "                x_concat = x_concat[0:sentence_size]\n",
    "            X_w2v_agg.append(x_concat)\n",
    "    else:\n",
    "        raise Exception(f\"Sorry, no {agg_method} aggregation method is supported, only 'avg' and 'concat' \")\n",
    "    \n",
    "    return X_w2v_agg"
   ]
  },
  {
   "cell_type": "markdown",
   "id": "91bad1ea",
   "metadata": {},
   "source": [
    "#### Promedio"
   ]
  },
  {
   "cell_type": "code",
   "execution_count": 20,
   "id": "09b267b5",
   "metadata": {},
   "outputs": [
    {
     "name": "stderr",
     "output_type": "stream",
     "text": [
      "<ipython-input-19-f052c847cbf0>:5: VisibleDeprecationWarning: Creating an ndarray from ragged nested sequences (which is a list-or-tuple of lists-or-tuples-or ndarrays with different lengths or shapes) is deprecated. If you meant to do this, you must specify 'dtype=object' when creating the ndarray.\n",
      "  X_w2v = np.array([np.array([w2v_model_150.wv[i] for i in ls if i in words]) for ls in X_tk])\n"
     ]
    }
   ],
   "source": [
    "vec_size = 150\n",
    "\n",
    "# Entrenar modelo W2V\n",
    "w2v_model_150 = models.Word2Vec(X_train_tk, vector_size=vec_size, window=3, min_count=5, sg=0, negative=10, workers=10)\n",
    "w2v_model_150.train(X_train_tk, total_examples=len(X_train_tk), epochs=10)\n",
    "\n",
    "# Obtener vectores de los mensajes\n",
    "X_train_w2v_avg = get_vectors_from_w2v_model(w2v_model_150, X_train_tk, agg_method='avg')\n",
    "X_test_w2v_avg = get_vectors_from_w2v_model(w2v_model_150, X_test_tk, agg_method='avg')"
   ]
  },
  {
   "cell_type": "markdown",
   "id": "dd4bbf4d",
   "metadata": {},
   "source": [
    "#### Concatenadas"
   ]
  },
  {
   "cell_type": "code",
   "execution_count": 21,
   "id": "009ebe4e",
   "metadata": {},
   "outputs": [
    {
     "name": "stderr",
     "output_type": "stream",
     "text": [
      "<ipython-input-19-f052c847cbf0>:5: VisibleDeprecationWarning: Creating an ndarray from ragged nested sequences (which is a list-or-tuple of lists-or-tuples-or ndarrays with different lengths or shapes) is deprecated. If you meant to do this, you must specify 'dtype=object' when creating the ndarray.\n",
      "  X_w2v = np.array([np.array([w2v_model_150.wv[i] for i in ls if i in words]) for ls in X_tk])\n"
     ]
    }
   ],
   "source": [
    "n_words = 20\n",
    "vec_size = 50\n",
    "sentence_size = n_words*vec_size\n",
    "\n",
    "# Entrenar modelo W2V\n",
    "w2v_model_50 = models.Word2Vec(X_train_tk, vector_size=vec_size, window=3, min_count=5, sg=0, negative=10, workers=10)\n",
    "w2v_model_50.train(X_train_tk, total_examples=len(X_train_tk), epochs=10)\n",
    "\n",
    "# Obtener vectores de los mensajes\n",
    "X_train_w2v_concat = get_vectors_from_w2v_model(w2v_model_50, X_train_tk, agg_method='concat')\n",
    "X_test_w2v_concat = get_vectors_from_w2v_model(w2v_model_50, X_test_tk, agg_method='concat')"
   ]
  },
  {
   "cell_type": "code",
   "execution_count": 22,
   "id": "da7a4ba4",
   "metadata": {},
   "outputs": [
    {
     "name": "stdout",
     "output_type": "stream",
     "text": [
      "BOW\n",
      "Número de mensajes en blanco: 53\n",
      "\n",
      "W2V\n",
      "Número de mensajes en blanco: 45\n"
     ]
    }
   ],
   "source": [
    "# Verificación de cantidad de mensajes que fallaron en la vectorización\n",
    "failed_count = 0\n",
    "for x in X_test_bow:\n",
    "    if x.sum()==0:\n",
    "        failed_count +=1\n",
    "\n",
    "print(\"BOW\")\n",
    "print(f\"Número de mensajes en blanco: {failed_count}\")\n",
    "\n",
    "failed_count = 0\n",
    "for x in X_test_w2v_avg:\n",
    "    if x.sum()==0:\n",
    "        failed_count +=1\n",
    "\n",
    "print()\n",
    "print(\"W2V\")\n",
    "print(f\"Número de mensajes en blanco: {failed_count}\")"
   ]
  },
  {
   "cell_type": "markdown",
   "id": "db55c144",
   "metadata": {},
   "source": [
    "# Selección de Modelo"
   ]
  },
  {
   "cell_type": "code",
   "execution_count": 23,
   "id": "c2166cec",
   "metadata": {},
   "outputs": [],
   "source": [
    "from sklearn.linear_model import LogisticRegression\n",
    "from sklearn.tree import DecisionTreeClassifier\n",
    "from sklearn.ensemble import RandomForestClassifier\n",
    "from sklearn import metrics"
   ]
  },
  {
   "cell_type": "code",
   "execution_count": 24,
   "id": "d8f8362f",
   "metadata": {},
   "outputs": [],
   "source": [
    "def train_test_models(model, X_train, y_train, X_test, y_test, model_id='Model', test_id='001'):\n",
    "    \"\"\" Entrena y prueba modelo de clasificación binaria.\n",
    "    \n",
    "    Args:\n",
    "        model (model): Modelo a ser entrenado y probado.\n",
    "        X (np.array): Representación de los mensajes en vectores (BOW, Word2Vec, DeepEmbeddings)\n",
    "        y (np.array): Etiqueta de la clase (0 o 1)\n",
    "        model_id (str): Id para identificar modelo\n",
    "    \n",
    "    Returns:\n",
    "        results (dict): Metricas de evaluación \n",
    "    \n",
    "    \"\"\"    \n",
    "    # Train\n",
    "    model.fit(X_train, y_train)\n",
    "    \n",
    "    # Predict\n",
    "    y_pred = model.predict(X_test)\n",
    "    \n",
    "    # Metricas de performance\n",
    "    accuracy = metrics.accuracy_score(y_test, y_pred)\n",
    "    precision = metrics.precision_score(y_test, y_pred)\n",
    "    recall = metrics.recall_score(y_test, y_pred)\n",
    "    f1_score = metrics.f1_score(y_test, y_pred)\n",
    "    \n",
    "    # Resultados\n",
    "    results = {'Model': model_id, 'Test': test_id , 'Accuracy': accuracy,\n",
    "               'Precision': precision, 'Recall': recall, 'F1-Score': f1_score}\n",
    "    \n",
    "    return results"
   ]
  },
  {
   "cell_type": "markdown",
   "id": "c30f98bc",
   "metadata": {},
   "source": [
    "## Decision Trees"
   ]
  },
  {
   "cell_type": "code",
   "execution_count": 25,
   "id": "d750679f",
   "metadata": {},
   "outputs": [],
   "source": [
    "dt_clf = DecisionTreeClassifier()\n",
    "\n",
    "# BOW\n",
    "# results = train_test_models(dt_clf, X_train_bow, y_train, X_test_bow, y_test, model_id='DT', test_id='BOW')\n",
    "# results_df = pd.DataFrame.from_dict([results])\n",
    "\n",
    "results = train_test_models(dt_clf, X_train_bow_pca, y_train, X_test_bow_pca, y_test, model_id='DT', test_id='BOW-PCA')\n",
    "results_df = pd.DataFrame.from_dict([results])\n",
    "\n",
    "# Word2Vec\n",
    "results = train_test_models(dt_clf, X_train_w2v_avg, y_train, X_test_w2v_avg, y_test, model_id='DT', test_id='W2V-Avg')\n",
    "results_df = results_df.append(results, ignore_index=True)\n",
    "\n",
    "results = train_test_models(dt_clf, X_train_w2v_concat, y_train, X_test_w2v_concat, y_test, model_id='DT', test_id='W2V-Concat')\n",
    "results_df = results_df.append(results, ignore_index=True)"
   ]
  },
  {
   "cell_type": "markdown",
   "id": "2a1bc65c",
   "metadata": {},
   "source": [
    "## RandomForest"
   ]
  },
  {
   "cell_type": "code",
   "execution_count": 26,
   "id": "39c4326b",
   "metadata": {},
   "outputs": [
    {
     "name": "stderr",
     "output_type": "stream",
     "text": [
      "[Parallel(n_jobs=-2)]: Using backend ThreadingBackend with 11 concurrent workers.\n",
      "[Parallel(n_jobs=-2)]: Done  28 tasks      | elapsed:   18.5s\n",
      "[Parallel(n_jobs=-2)]: Done 100 out of 100 | elapsed:   58.0s finished\n",
      "[Parallel(n_jobs=11)]: Using backend ThreadingBackend with 11 concurrent workers.\n",
      "[Parallel(n_jobs=11)]: Done  28 tasks      | elapsed:    0.0s\n",
      "[Parallel(n_jobs=11)]: Done 100 out of 100 | elapsed:    0.1s finished\n",
      "[Parallel(n_jobs=-2)]: Using backend ThreadingBackend with 11 concurrent workers.\n",
      "[Parallel(n_jobs=-2)]: Done  28 tasks      | elapsed:    5.7s\n",
      "[Parallel(n_jobs=-2)]: Done 100 out of 100 | elapsed:   17.9s finished\n",
      "[Parallel(n_jobs=11)]: Using backend ThreadingBackend with 11 concurrent workers.\n",
      "[Parallel(n_jobs=11)]: Done  28 tasks      | elapsed:    0.0s\n",
      "[Parallel(n_jobs=11)]: Done 100 out of 100 | elapsed:    0.0s finished\n",
      "[Parallel(n_jobs=-2)]: Using backend ThreadingBackend with 11 concurrent workers.\n",
      "[Parallel(n_jobs=-2)]: Done  28 tasks      | elapsed:   10.3s\n",
      "[Parallel(n_jobs=-2)]: Done 100 out of 100 | elapsed:   33.6s finished\n",
      "[Parallel(n_jobs=11)]: Using backend ThreadingBackend with 11 concurrent workers.\n",
      "[Parallel(n_jobs=11)]: Done  28 tasks      | elapsed:    0.0s\n",
      "[Parallel(n_jobs=11)]: Done 100 out of 100 | elapsed:    0.1s finished\n"
     ]
    }
   ],
   "source": [
    "rf_clf = RandomForestClassifier(verbose=1, n_jobs=-2)\n",
    "\n",
    "# BOW\n",
    "# results = train_test_models(rf_clf, X_train_bow, y_train, X_test_bow, y_test, model_id='RF', test_id='BOW')\n",
    "# results_df = results_df.append(results, ignore_index=True)\n",
    "\n",
    "results = train_test_models(rf_clf, X_train_bow_pca, y_train, X_test_bow_pca, y_test, model_id='RF', test_id='BOW-PCA')\n",
    "results_df = results_df.append(results, ignore_index=True)\n",
    "\n",
    "# Word2Vec\n",
    "results = train_test_models(rf_clf, X_train_w2v_avg, y_train, X_test_w2v_avg, y_test, model_id='RF', test_id='W2V-Avg')\n",
    "results_df = results_df.append(results, ignore_index=True)\n",
    "\n",
    "results = train_test_models(rf_clf, X_train_w2v_concat, y_train, X_test_w2v_concat, y_test, model_id='RF', test_id='W2V-Concat')\n",
    "results_df = results_df.append(results, ignore_index=True)"
   ]
  },
  {
   "cell_type": "markdown",
   "id": "240ba59a",
   "metadata": {},
   "source": [
    "## XGBoost"
   ]
  },
  {
   "cell_type": "code",
   "execution_count": 27,
   "id": "31d6ba92",
   "metadata": {},
   "outputs": [],
   "source": [
    "from xgboost import XGBClassifier\n",
    "\n",
    "xgb_clf = XGBClassifier(n_estimators=1000, max_depth=7, eta=0.1, subsample=0.7, colsample_bytree=0.8)\n",
    "\n",
    "# BOW\n",
    "# results = train_test_models(xgb_clf, X_train_bow, y_train, X_test_bow, y_test, model_id='XGB', test_id='BOW')\n",
    "# results_df = results_df.append(results, ignore_index=True)\n",
    "\n",
    "results = train_test_models(xgb_clf, X_train_bow_pca, y_train, X_test_bow_pca, y_test, model_id='XGB', test_id='BOW-PCA')\n",
    "results_df = results_df.append(results, ignore_index=True)\n",
    "\n",
    "# Word2Vec\n",
    "results = train_test_models(xgb_clf, X_train_w2v_avg, y_train, X_test_w2v_avg, y_test, model_id='XGB', test_id='W2V-Avg')\n",
    "results_df = results_df.append(results, ignore_index=True)\n",
    "\n",
    "results = train_test_models(xgb_clf, X_train_w2v_concat, y_train, X_test_w2v_concat, y_test, model_id='XGB', test_id='W2V-Concat')\n",
    "results_df = results_df.append(results, ignore_index=True)"
   ]
  },
  {
   "cell_type": "markdown",
   "id": "3dbe7166",
   "metadata": {},
   "source": [
    "## Deep Embeddings (Transformer Pre-Entrenado)"
   ]
  },
  {
   "cell_type": "code",
   "execution_count": 28,
   "id": "e060d2d2",
   "metadata": {},
   "outputs": [],
   "source": [
    "# Eliminar de memoria variables que sobrecargan la RAM\n",
    "del X_train_bow, X_test_bow"
   ]
  },
  {
   "cell_type": "code",
   "execution_count": 29,
   "id": "924709c2",
   "metadata": {},
   "outputs": [
    {
     "name": "stderr",
     "output_type": "stream",
     "text": [
      "You try to use a model that was created with version 2.2.0, however, your version is 2.0.0. This might cause unexpected behavior or errors. In that case, try to update to the latest version.\n",
      "\n",
      "\n",
      "\n"
     ]
    }
   ],
   "source": [
    "from sentence_transformers import SentenceTransformer\n",
    "\n",
    "transformer_model = SentenceTransformer('hackathon-pln-es/paraphrase-spanish-distilroberta')\n",
    "\n",
    "# Preprocesamiento simple - remover URLs y usuarios (Sin Tokenizar)\n",
    "def simple_preprocess_text(X):\n",
    "    X_pre = []\n",
    "    for x in X:\n",
    "        x_pre = re.sub(r\"http\\S+\", \"\", x)\n",
    "        x_pre = re.sub(r\"@S+\", \"\", x_pre)\n",
    "        X_pre.append(x_pre)\n",
    "    return X_pre\n",
    "\n",
    "# Encode embeddings\n",
    "X_train_deep = transformer_model.encode(simple_preprocess_text(X_train))\n",
    "X_test_deep = transformer_model.encode(simple_preprocess_text(X_test))"
   ]
  },
  {
   "cell_type": "code",
   "execution_count": 30,
   "id": "d1806f54",
   "metadata": {},
   "outputs": [
    {
     "name": "stderr",
     "output_type": "stream",
     "text": [
      "[Parallel(n_jobs=-2)]: Using backend ThreadingBackend with 11 concurrent workers.\n",
      "[Parallel(n_jobs=-2)]: Done  28 tasks      | elapsed:   17.7s\n",
      "[Parallel(n_jobs=-2)]: Done 100 out of 100 | elapsed:   56.3s finished\n",
      "[Parallel(n_jobs=11)]: Using backend ThreadingBackend with 11 concurrent workers.\n",
      "[Parallel(n_jobs=11)]: Done  28 tasks      | elapsed:    0.0s\n",
      "[Parallel(n_jobs=11)]: Done 100 out of 100 | elapsed:    0.1s finished\n"
     ]
    }
   ],
   "source": [
    "# Decision Trees\n",
    "results = train_test_models(dt_clf, X_train_deep, y_train, X_test_deep, y_test, model_id='DT', test_id='Deep')\n",
    "results_df = results_df.append(results, ignore_index=True)\n",
    "\n",
    "# Random Forest\n",
    "results = train_test_models(rf_clf, X_train_deep, y_train, X_test_deep, y_test, model_id='RF', test_id='Deep')\n",
    "results_df = results_df.append(results, ignore_index=True)\n",
    "\n",
    "# XGBoost\n",
    "results = train_test_models(xgb_clf, X_train_deep, y_train, X_test_deep, y_test, model_id='XGB', test_id='Deep')\n",
    "results_df = results_df.append(results, ignore_index=True)"
   ]
  },
  {
   "cell_type": "markdown",
   "id": "2de32cb4",
   "metadata": {},
   "source": [
    "# Resultados"
   ]
  },
  {
   "cell_type": "code",
   "execution_count": 31,
   "id": "0b4c7523",
   "metadata": {},
   "outputs": [
    {
     "data": {
      "text/html": [
       "<div>\n",
       "<style scoped>\n",
       "    .dataframe tbody tr th:only-of-type {\n",
       "        vertical-align: middle;\n",
       "    }\n",
       "\n",
       "    .dataframe tbody tr th {\n",
       "        vertical-align: top;\n",
       "    }\n",
       "\n",
       "    .dataframe thead th {\n",
       "        text-align: right;\n",
       "    }\n",
       "</style>\n",
       "<table border=\"1\" class=\"dataframe\">\n",
       "  <thead>\n",
       "    <tr style=\"text-align: right;\">\n",
       "      <th></th>\n",
       "      <th>Model</th>\n",
       "      <th>Test</th>\n",
       "      <th>Accuracy</th>\n",
       "      <th>Precision</th>\n",
       "      <th>Recall</th>\n",
       "      <th>F1-Score</th>\n",
       "    </tr>\n",
       "  </thead>\n",
       "  <tbody>\n",
       "    <tr>\n",
       "      <th>7</th>\n",
       "      <td>XGB</td>\n",
       "      <td>W2V-Avg</td>\n",
       "      <td>0.95605</td>\n",
       "      <td>0.968758</td>\n",
       "      <td>0.927228</td>\n",
       "      <td>0.947538</td>\n",
       "    </tr>\n",
       "    <tr>\n",
       "      <th>6</th>\n",
       "      <td>RF</td>\n",
       "      <td>BOW-PCA</td>\n",
       "      <td>0.95475</td>\n",
       "      <td>0.976831</td>\n",
       "      <td>0.916014</td>\n",
       "      <td>0.945446</td>\n",
       "    </tr>\n",
       "    <tr>\n",
       "      <th>11</th>\n",
       "      <td>XGB</td>\n",
       "      <td>Deep</td>\n",
       "      <td>0.95170</td>\n",
       "      <td>0.956375</td>\n",
       "      <td>0.929564</td>\n",
       "      <td>0.942779</td>\n",
       "    </tr>\n",
       "    <tr>\n",
       "      <th>4</th>\n",
       "      <td>RF</td>\n",
       "      <td>W2V-Avg</td>\n",
       "      <td>0.94995</td>\n",
       "      <td>0.959742</td>\n",
       "      <td>0.921738</td>\n",
       "      <td>0.940356</td>\n",
       "    </tr>\n",
       "    <tr>\n",
       "      <th>8</th>\n",
       "      <td>XGB</td>\n",
       "      <td>W2V-Concat</td>\n",
       "      <td>0.94075</td>\n",
       "      <td>0.948117</td>\n",
       "      <td>0.911459</td>\n",
       "      <td>0.929426</td>\n",
       "    </tr>\n",
       "    <tr>\n",
       "      <th>10</th>\n",
       "      <td>RF</td>\n",
       "      <td>Deep</td>\n",
       "      <td>0.93900</td>\n",
       "      <td>0.945936</td>\n",
       "      <td>0.909473</td>\n",
       "      <td>0.927346</td>\n",
       "    </tr>\n",
       "    <tr>\n",
       "      <th>5</th>\n",
       "      <td>RF</td>\n",
       "      <td>W2V-Concat</td>\n",
       "      <td>0.93330</td>\n",
       "      <td>0.936466</td>\n",
       "      <td>0.905619</td>\n",
       "      <td>0.920784</td>\n",
       "    </tr>\n",
       "    <tr>\n",
       "      <th>3</th>\n",
       "      <td>RF</td>\n",
       "      <td>BOW-PCA</td>\n",
       "      <td>0.93255</td>\n",
       "      <td>0.956918</td>\n",
       "      <td>0.882140</td>\n",
       "      <td>0.918009</td>\n",
       "    </tr>\n",
       "    <tr>\n",
       "      <th>1</th>\n",
       "      <td>DT</td>\n",
       "      <td>W2V-Avg</td>\n",
       "      <td>0.91010</td>\n",
       "      <td>0.897870</td>\n",
       "      <td>0.891368</td>\n",
       "      <td>0.894607</td>\n",
       "    </tr>\n",
       "    <tr>\n",
       "      <th>0</th>\n",
       "      <td>DT</td>\n",
       "      <td>BOW-PCA</td>\n",
       "      <td>0.88365</td>\n",
       "      <td>0.868876</td>\n",
       "      <td>0.857610</td>\n",
       "      <td>0.863206</td>\n",
       "    </tr>\n",
       "    <tr>\n",
       "      <th>9</th>\n",
       "      <td>DT</td>\n",
       "      <td>Deep</td>\n",
       "      <td>0.87220</td>\n",
       "      <td>0.849087</td>\n",
       "      <td>0.853055</td>\n",
       "      <td>0.851066</td>\n",
       "    </tr>\n",
       "    <tr>\n",
       "      <th>2</th>\n",
       "      <td>DT</td>\n",
       "      <td>W2V-Concat</td>\n",
       "      <td>0.85955</td>\n",
       "      <td>0.833025</td>\n",
       "      <td>0.840322</td>\n",
       "      <td>0.836658</td>\n",
       "    </tr>\n",
       "  </tbody>\n",
       "</table>\n",
       "</div>"
      ],
      "text/plain": [
       "   Model        Test  Accuracy  Precision    Recall  F1-Score\n",
       "7    XGB     W2V-Avg   0.95605   0.968758  0.927228  0.947538\n",
       "6     RF     BOW-PCA   0.95475   0.976831  0.916014  0.945446\n",
       "11   XGB        Deep   0.95170   0.956375  0.929564  0.942779\n",
       "4     RF     W2V-Avg   0.94995   0.959742  0.921738  0.940356\n",
       "8    XGB  W2V-Concat   0.94075   0.948117  0.911459  0.929426\n",
       "10    RF        Deep   0.93900   0.945936  0.909473  0.927346\n",
       "5     RF  W2V-Concat   0.93330   0.936466  0.905619  0.920784\n",
       "3     RF     BOW-PCA   0.93255   0.956918  0.882140  0.918009\n",
       "1     DT     W2V-Avg   0.91010   0.897870  0.891368  0.894607\n",
       "0     DT     BOW-PCA   0.88365   0.868876  0.857610  0.863206\n",
       "9     DT        Deep   0.87220   0.849087  0.853055  0.851066\n",
       "2     DT  W2V-Concat   0.85955   0.833025  0.840322  0.836658"
      ]
     },
     "execution_count": 31,
     "metadata": {},
     "output_type": "execute_result"
    }
   ],
   "source": [
    "results_df.sort_values(by='Accuracy', ascending=False)"
   ]
  },
  {
   "cell_type": "code",
   "execution_count": 33,
   "id": "16ad3f8f",
   "metadata": {},
   "outputs": [
    {
     "data": {
      "image/png": "[encoded data removed]",
      "text/plain": [
       "<Figure size 720x504 with 1 Axes>"
      ]
     },
     "metadata": {
      "needs_background": "light"
     },
     "output_type": "display_data"
    }
   ],
   "source": [
    "# Labels\n",
    "labels = ['DT', 'RF', 'XGB']\n",
    "\n",
    "# Data\n",
    "BOW = results_df.loc[results_df['Test'] == 'BOW-PCA']['Accuracy'].values\n",
    "W2V_AVG = results_df.loc[results_df['Test'] == 'W2V-Avg']['Accuracy'].values\n",
    "W2V_Concat = results_df.loc[results_df['Test'] == 'W2V-Concat']['Accuracy'].values\n",
    "DEEP = results_df.loc[results_df['Test'] == 'Deep']['Accuracy'].values\n",
    "\n",
    "x = np.arange(len(labels))  # the label locations\n",
    "width = 0.2  # the width of the bars\n",
    "\n",
    "# Create plot\n",
    "fig, ax = plt.subplots(figsize=(10,7))\n",
    "\n",
    "# Locate bar graphs\n",
    "rects1 = ax.bar(x - 3*width/2, BOW, width, label='BOW-PCA')\n",
    "rects2 = ax.bar(x - width/2, W2V_AVG, width, label='W2V-Avg')\n",
    "rects3 = ax.bar(x + width/2, W2V_Concat, width, label='W2V-Concat')\n",
    "rects4 = ax.bar(x + 3*width/2, DEEP, width, label='Deep')\n",
    "\n",
    "\n",
    "# Add some text for labels, title and custom x-axis tick labels, etc.\n",
    "ax.set_ylabel('Value', fontsize=15)\n",
    "ax.set_title(\"Accuracy\", fontsize=20)\n",
    "ax.set_xticks(x)\n",
    "ax.set_xticklabels(labels, fontsize=15)\n",
    "ax.set_ylim((0.5, 1))\n",
    "ax.legend(loc=3, fontsize=12)\n",
    "\n",
    "# Autolabel bars\n",
    "def autolabel(rects):\n",
    "    \"\"\"Attach a text label above each bar in *rects*, displaying its height.\"\"\"\n",
    "    for rect in rects:\n",
    "        height = round(rect.get_height(), 3)\n",
    "        ax.annotate('{}'.format(height),\n",
    "                    xy=(rect.get_x() + rect.get_width() / 2, height),\n",
    "                    xytext=(0, 3),  # 3 points vertical offset\n",
    "                    textcoords=\"offset points\",\n",
    "                    ha='center', va='bottom')\n",
    "\n",
    "# Label bars\n",
    "autolabel(rects1)\n",
    "autolabel(rects2)\n",
    "autolabel(rects3)\n",
    "autolabel(rects4)\n",
    "\n",
    "# Plot\n",
    "fig.tight_layout()\n",
    "fig.savefig('./results/accuracy.png')\n",
    "plt.show()"
   ]
  }
 ],
 "metadata": {
  "kernelspec": {
   "display_name": "Python 3",
   "language": "python",
   "name": "python3"
  },
  "language_info": {
   "codemirror_mode": {
    "name": "ipython",
    "version": 3
   },
   "file_extension": ".py",
   "mimetype": "text/x-python",
   "name": "python",
   "nbconvert_exporter": "python",
   "pygments_lexer": "ipython3",
   "version": "3.8.8"
  }
 },
 "nbformat": 4,
 "nbformat_minor": 5
}
