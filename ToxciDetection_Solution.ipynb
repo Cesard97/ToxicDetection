{
 "cells": [
  {
   "cell_type": "markdown",
   "id": "eff62aec",
   "metadata": {},
   "source": [
    "# Toxic Detection\n",
    "\n",
    "## Prueba Técnica: Mercado Libre\n",
    "\n",
    "**Marzo 2023**\n",
    "\n",
    "*César Daniel Garrido Urbano*\n"
   ]
  },
  {
   "cell_type": "markdown",
   "id": "bd9efb50",
   "metadata": {},
   "source": [
    "## Descripción\n",
    "\n",
    "El objetivo es construir un sistema para detectar automáticamente textos que contienen lenguaje ofensivo (inclusive de género, raza, etc...) o vulgar.\n",
    "\n",
    "Para esto debes generar un modelo de clasificación utilizando un esquema basado en árboles de decisión. (Por ejemplo: Random Forest, XGBoost, LightGBM, etc...).\n",
    "\n",
    "El proceso de desarrollo debe seguir el flujo completo de modelado en machine learning (análisis de datos, feature engineering, selección de modelo, métricas) con reporte de resultados y proceso. Toda decisión tomada dentro del pipeline debe ser agregada al reporte.\n",
    "\n",
    "Luego de haber seleccionado el mejor modelo de clasificación, para el reporte, haz un análisis comparativo de los dos mejores modelos que hayas obtenido con la métrica que consideres se adapta mejor al problema.\n"
   ]
  },
  {
   "cell_type": "markdown",
   "id": "09b1e8a0",
   "metadata": {},
   "source": [
    "# Exploración Inicial de los datos\n",
    "\n",
    "Visualización, preprocesamiento (tokenización) y limpieza de los datos."
   ]
  },
  {
   "cell_type": "code",
   "execution_count": 1,
   "id": "1789523a",
   "metadata": {},
   "outputs": [],
   "source": [
    "# Main libraries\n",
    "import string\n",
    "import numpy as np\n",
    "import pandas as pd\n",
    "import matplotlib.pyplot as plt\n",
    "\n",
    "from tqdm import tqdm"
   ]
  },
  {
   "cell_type": "code",
   "execution_count": 2,
   "id": "de8fd307",
   "metadata": {},
   "outputs": [
    {
     "data": {
      "text/html": [
       "<div>\n",
       "<style scoped>\n",
       "    .dataframe tbody tr th:only-of-type {\n",
       "        vertical-align: middle;\n",
       "    }\n",
       "\n",
       "    .dataframe tbody tr th {\n",
       "        vertical-align: top;\n",
       "    }\n",
       "\n",
       "    .dataframe thead th {\n",
       "        text-align: right;\n",
       "    }\n",
       "</style>\n",
       "<table border=\"1\" class=\"dataframe\">\n",
       "  <thead>\n",
       "    <tr style=\"text-align: right;\">\n",
       "      <th></th>\n",
       "      <th>message</th>\n",
       "      <th>label</th>\n",
       "    </tr>\n",
       "  </thead>\n",
       "  <tbody>\n",
       "    <tr>\n",
       "      <th>0</th>\n",
       "      <td>Hola, dale actualizar a la pagina o la tecla F5</td>\n",
       "      <td>0</td>\n",
       "    </tr>\n",
       "    <tr>\n",
       "      <th>1</th>\n",
       "      <td>Ningún mujer te va a dejar por un error. porque todos somos humanos y el algún momento la cagamos pero siempre hay la oportunidad de mejorar en la cagas que uno hace y más si te hace feliz</td>\n",
       "      <td>1</td>\n",
       "    </tr>\n",
       "    <tr>\n",
       "      <th>2</th>\n",
       "      <td>Entonces, si está haciendo una correspondencia en R ^ 2, ¿cómo dibujaría G (x) = {y es un elemento de R2 tal que el producto escalar de x e y es 0} si G (3,4)</td>\n",
       "      <td>0</td>\n",
       "    </tr>\n",
       "    <tr>\n",
       "      <th>3</th>\n",
       "      <td>victoria con el pelito corto me voy a matar</td>\n",
       "      <td>1</td>\n",
       "    </tr>\n",
       "    <tr>\n",
       "      <th>4</th>\n",
       "      <td>@LoloPeniche Periodista!!!!!\\nEs una puta verdulera la HDSPTM... https://t.co/6wyiTra4ko</td>\n",
       "      <td>1</td>\n",
       "    </tr>\n",
       "    <tr>\n",
       "      <th>...</th>\n",
       "      <td>...</td>\n",
       "      <td>...</td>\n",
       "    </tr>\n",
       "    <tr>\n",
       "      <th>514550</th>\n",
       "      <td>Argentina: *apoya a la Alemania Nazi en la guerra*\\nAlemania: *pierde la guerra*\\nArgentina teniendo que explicarle la situación al resto del mundo: https://t.co/eQo4Pqru2r</td>\n",
       "      <td>1</td>\n",
       "    </tr>\n",
       "    <tr>\n",
       "      <th>514551</th>\n",
       "      <td>La rata esta de @robertomadrazo invitando a votar, ya pasó no??, para darle aire a su partido corrupto y hablando de tiranías. No mames ratero que te compre quien no te conoce. https://t.co/T7Xm9ZLJxE</td>\n",
       "      <td>1</td>\n",
       "    </tr>\n",
       "    <tr>\n",
       "      <th>514552</th>\n",
       "      <td>No dale no hay problema muchísimas gracias no me sabía ese dato no encuentro problema alguno solo me surgió esa duda espero no haber incómodado muchas gracias</td>\n",
       "      <td>0</td>\n",
       "    </tr>\n",
       "    <tr>\n",
       "      <th>514553</th>\n",
       "      <td>Mi nombre es \"onassis amaya   cc 84083683</td>\n",
       "      <td>0</td>\n",
       "    </tr>\n",
       "    <tr>\n",
       "      <th>514554</th>\n",
       "      <td>Hola buenas tardes me podrian indicar donde puedo llevar el reloj por garantia se los compre en el mes de febrero. Gracias</td>\n",
       "      <td>0</td>\n",
       "    </tr>\n",
       "  </tbody>\n",
       "</table>\n",
       "<p>514555 rows × 2 columns</p>\n",
       "</div>"
      ],
      "text/plain": [
       "                                                                                                                                                                                                         message  \\\n",
       "0                                                                                                                                                                Hola, dale actualizar a la pagina o la tecla F5   \n",
       "1                   Ningún mujer te va a dejar por un error. porque todos somos humanos y el algún momento la cagamos pero siempre hay la oportunidad de mejorar en la cagas que uno hace y más si te hace feliz   \n",
       "2                                                 Entonces, si está haciendo una correspondencia en R ^ 2, ¿cómo dibujaría G (x) = {y es un elemento de R2 tal que el producto escalar de x e y es 0} si G (3,4)   \n",
       "3                                                                                                                                                                    victoria con el pelito corto me voy a matar   \n",
       "4                                                                                                                       @LoloPeniche Periodista!!!!!\\nEs una puta verdulera la HDSPTM... https://t.co/6wyiTra4ko   \n",
       "...                                                                                                                                                                                                          ...   \n",
       "514550                              Argentina: *apoya a la Alemania Nazi en la guerra*\\nAlemania: *pierde la guerra*\\nArgentina teniendo que explicarle la situación al resto del mundo: https://t.co/eQo4Pqru2r   \n",
       "514551  La rata esta de @robertomadrazo invitando a votar, ya pasó no??, para darle aire a su partido corrupto y hablando de tiranías. No mames ratero que te compre quien no te conoce. https://t.co/T7Xm9ZLJxE   \n",
       "514552                                            No dale no hay problema muchísimas gracias no me sabía ese dato no encuentro problema alguno solo me surgió esa duda espero no haber incómodado muchas gracias   \n",
       "514553                                                                                                                                                                 Mi nombre es \"onassis amaya   cc 84083683   \n",
       "514554                                                                                Hola buenas tardes me podrian indicar donde puedo llevar el reloj por garantia se los compre en el mes de febrero. Gracias   \n",
       "\n",
       "        label  \n",
       "0           0  \n",
       "1           1  \n",
       "2           0  \n",
       "3           1  \n",
       "4           1  \n",
       "...       ...  \n",
       "514550      1  \n",
       "514551      1  \n",
       "514552      0  \n",
       "514553      0  \n",
       "514554      0  \n",
       "\n",
       "[514555 rows x 2 columns]"
      ]
     },
     "execution_count": 2,
     "metadata": {},
     "output_type": "execute_result"
    }
   ],
   "source": [
    "# Set pandas columns option\n",
    "pd.set_option('display.max_colwidth', 500)\n",
    "pd.set_option(\"max_rows\", 30)\n",
    "\n",
    "# Import Simpsons data\n",
    "raw_df = pd.read_csv('data_toxic.csv')\n",
    "\n",
    "# Glimpse at the dataset\n",
    "raw_df"
   ]
  },
  {
   "cell_type": "code",
   "execution_count": 3,
   "id": "a2b1fe68",
   "metadata": {},
   "outputs": [
    {
     "data": {
      "text/html": [
       "<div>\n",
       "<style scoped>\n",
       "    .dataframe tbody tr th:only-of-type {\n",
       "        vertical-align: middle;\n",
       "    }\n",
       "\n",
       "    .dataframe tbody tr th {\n",
       "        vertical-align: top;\n",
       "    }\n",
       "\n",
       "    .dataframe thead th {\n",
       "        text-align: right;\n",
       "    }\n",
       "</style>\n",
       "<table border=\"1\" class=\"dataframe\">\n",
       "  <thead>\n",
       "    <tr style=\"text-align: right;\">\n",
       "      <th></th>\n",
       "      <th>message</th>\n",
       "    </tr>\n",
       "    <tr>\n",
       "      <th>label</th>\n",
       "      <th></th>\n",
       "    </tr>\n",
       "  </thead>\n",
       "  <tbody>\n",
       "    <tr>\n",
       "      <th>0</th>\n",
       "      <td>295937</td>\n",
       "    </tr>\n",
       "    <tr>\n",
       "      <th>1</th>\n",
       "      <td>218618</td>\n",
       "    </tr>\n",
       "  </tbody>\n",
       "</table>\n",
       "</div>"
      ],
      "text/plain": [
       "       message\n",
       "label         \n",
       "0       295937\n",
       "1       218618"
      ]
     },
     "execution_count": 3,
     "metadata": {},
     "output_type": "execute_result"
    }
   ],
   "source": [
    "raw_df.groupby(['label']).count()"
   ]
  },
  {
   "cell_type": "code",
   "execution_count": 4,
   "id": "143dbdbc",
   "metadata": {},
   "outputs": [],
   "source": [
    "# Simplifiación temporal del problema (50.000 mensajes)\n",
    "sample_df = raw_df.head(20000)\n",
    "y = sample_df.label"
   ]
  },
  {
   "cell_type": "markdown",
   "id": "37a2f3ed",
   "metadata": {},
   "source": [
    "## Pre-procesamiento de los datos"
   ]
  },
  {
   "cell_type": "markdown",
   "id": "242f486b",
   "metadata": {},
   "source": [
    "### Tokenización"
   ]
  },
  {
   "cell_type": "code",
   "execution_count": 5,
   "id": "14f14483",
   "metadata": {},
   "outputs": [],
   "source": [
    "# NLTK \n",
    "from nltk.tokenize import TweetTokenizer\n",
    "from nltk.corpus import stopwords\n",
    "from nltk.stem import SnowballStemmer"
   ]
  },
  {
   "cell_type": "code",
   "execution_count": 6,
   "id": "0494acd6",
   "metadata": {},
   "outputs": [],
   "source": [
    "# Función para estandarizar el preprocesamiento.\n",
    "\n",
    "def preprocess_text(text, tokenizer=None, stemmer=None, stop_words=None):\n",
    "    \"\"\" Aplica un preprocesamiento estandar a un mensaje (text), tokenizandolo y limpiando los caracteres.\n",
    "    \n",
    "    Args:\n",
    "        text (str): Mensaje a ser preprocesado\n",
    "        tokenizer (nltk.tokenize.Tokenizer): Tokenizador (Objeto para convertir mensajes en tokens).\n",
    "        stemmer (nltk.stem.Stemmer): Stemmer (Objeto que normaliza o reduce las palabras a su raiz).\n",
    "        stop_words ([str]): Lista de palabras a ser removidas por ser tan repetidas (tipicamente articulos).\n",
    "    \n",
    "    Returns:\n",
    "        preprocessed_text ([str]): Lista de tokens preprocesados del mensaje inicial.\n",
    "    \n",
    "    \"\"\"\n",
    "    \n",
    "    # Tokenizacion y estandarizacion en minusculas\n",
    "    text_tk = tokenizer.tokenize(text.lower())\n",
    "    \n",
    "    # Remover signos de puntuación + stop words + URLs\n",
    "    relevant_tk = []\n",
    "    for tk in text_tk:\n",
    "        if (tk not in string.punctuation+'¿') and (tk not in stop_words) and ('http' not in tk):\n",
    "            relevant_tk.append(tk)   \n",
    "    \n",
    "    # Stemmer (Cortar finalizacion de la palabra)\n",
    "    #processed_text=[]\n",
    "    #for tk in relevant_tk:\n",
    "    #    processed_text.append(stemmer.stem(tk))\n",
    "    \n",
    "    # Returns processed text\n",
    "    return relevant_tk"
   ]
  },
  {
   "cell_type": "code",
   "execution_count": 7,
   "id": "42327e9d",
   "metadata": {},
   "outputs": [
    {
     "name": "stderr",
     "output_type": "stream",
     "text": [
      "100%|██████████| 20000/20000 [00:03<00:00, 5047.58it/s]\n"
     ]
    }
   ],
   "source": [
    "# Tokenizador para tweets\n",
    "tt = TweetTokenizer(preserve_case=False, reduce_len=True, strip_handles=True)\n",
    "# Stemmer y stop-words en español\n",
    "stemmer = SnowballStemmer('spanish')\n",
    "stop_words = stopwords.words('spanish')\n",
    "\n",
    "cleaned_msgs = []\n",
    "for txt in tqdm(sample_df.message):\n",
    "    # Tokenize tweets\n",
    "    cleaned_msgs.append(preprocess_text(txt, tt, stemmer, stop_words))"
   ]
  },
  {
   "cell_type": "code",
   "execution_count": 8,
   "id": "c36c5b1d",
   "metadata": {},
   "outputs": [
    {
     "name": "stdout",
     "output_type": "stream",
     "text": [
      "Ejemplos de Tokenización:\n",
      "\n",
      "Entonces, si está haciendo una correspondencia en R ^ 2, ¿cómo dibujaría G (x) = {y es un elemento de R2 tal que el producto escalar de x e y es 0} si G (3,4)\n",
      "['entonces', 'si', 'haciendo', 'correspondencia', 'r', '2', 'cómo', 'dibujaría', 'g', 'x', 'elemento', 'r2', 'tal', 'producto', 'escalar', 'x', '0', 'si', 'g', '3,4']\n",
      "\n",
      "@LoloPeniche Periodista!!!!!\n",
      "Es una puta verdulera la HDSPTM... https://t.co/6wyiTra4ko\n",
      "['periodista', 'puta', 'verdulera', 'hdsptm', '...']\n"
     ]
    }
   ],
   "source": [
    "# Ejemplo de Tokenización\n",
    "print(\"Ejemplos de Tokenización:\\n\")\n",
    "print(sample_df.message.iloc[2]) \n",
    "print(cleaned_msgs[2])\n",
    "print(\"\")\n",
    "print(sample_df.message.iloc[4]) \n",
    "print(cleaned_msgs[4])"
   ]
  },
  {
   "cell_type": "code",
   "execution_count": 9,
   "id": "d4e6049e",
   "metadata": {},
   "outputs": [
    {
     "data": {
      "image/png": "[encoded data removed]",
      "text/plain": [
       "<Figure size 864x576 with 1 Axes>"
      ]
     },
     "metadata": {
      "needs_background": "light"
     },
     "output_type": "display_data"
    },
    {
     "name": "stdout",
     "output_type": "stream",
     "text": [
      "Tamaño promedio (mean) de los mensajes:\n",
      "11.7339\n",
      "Tamaño medio (median) de los mensajes:\n",
      "10.0\n"
     ]
    }
   ],
   "source": [
    "# Histograma (Longitud de mensajes)\n",
    "\n",
    "msgs_length = []\n",
    "for x in cleaned_msgs:\n",
    "    msgs_length.append(len(x))\n",
    "\n",
    "# Number of bins\n",
    "bins= np.max(np.array(msgs_length))\n",
    "\n",
    "# Plot\n",
    "fig = plt.figure(figsize=(12,8))\n",
    "plt.hist(np.array(msgs_length), bins=bins)\n",
    "plt.xlim([1, 75])\n",
    "plt.xlabel('Longitud del mensaje', fontsize=14)\n",
    "plt.ylabel('Count', fontsize=14)\n",
    "plt.title('Histograma', fontsize=18)\n",
    "plt.grid(True)\n",
    "plt.show()\n",
    "\n",
    "# Print some metrics\n",
    "print('Tamaño promedio (mean) de los mensajes:')\n",
    "print(np.mean(np.array(msgs_length)))\n",
    "\n",
    "print('Tamaño medio (median) de los mensajes:')\n",
    "print(np.median(np.array(msgs_length)))"
   ]
  },
  {
   "cell_type": "markdown",
   "id": "1b8a8e0e",
   "metadata": {},
   "source": [
    "## Embeddings\n",
    "\n",
    "Representación de las sentencias (tokens) como vectores."
   ]
  },
  {
   "cell_type": "code",
   "execution_count": 10,
   "id": "bc7931b6",
   "metadata": {},
   "outputs": [
    {
     "name": "stderr",
     "output_type": "stream",
     "text": [
      "D:\\anaconda3\\lib\\site-packages\\gensim\\similarities\\__init__.py:15: UserWarning: The gensim.similarities.levenshtein submodule is disabled, because the optional Levenshtein package <https://pypi.org/project/python-Levenshtein/> is unavailable. Install Levenhstein (e.g. `pip install python-Levenshtein`) to suppress this warning.\n",
      "  warnings.warn(msg)\n"
     ]
    }
   ],
   "source": [
    "from sklearn.decomposition import PCA, IncrementalPCA\n",
    "from gensim import corpora"
   ]
  },
  {
   "cell_type": "markdown",
   "id": "130d6443",
   "metadata": {},
   "source": [
    "### Modelo Bag of Words (BOW)"
   ]
  },
  {
   "cell_type": "code",
   "execution_count": 11,
   "id": "697d20fe",
   "metadata": {},
   "outputs": [
    {
     "name": "stdout",
     "output_type": "stream",
     "text": [
      "Diccionario de palabras construido a partir del set de mensajes:\n",
      "Dictionary(5863 unique tokens: ['actualizar', 'dale', 'hola', 'pagina', 'algún']...)\n"
     ]
    }
   ],
   "source": [
    "# Crear diccionario de palabras\n",
    "dict_msgs = corpora.Dictionary(cleaned_msgs)\n",
    "dict_msgs.filter_extremes(no_below=5, no_above=0.5)\n",
    "\n",
    "print('Diccionario de palabras construido a partir del set de mensajes:')\n",
    "print(dict_msgs)"
   ]
  },
  {
   "cell_type": "code",
   "execution_count": 12,
   "id": "7fa08eb8",
   "metadata": {},
   "outputs": [],
   "source": [
    "# Crear corpus con representación BOW\n",
    "corpus = []\n",
    "for msg in cleaned_msgs:\n",
    "    corpus.append(dict_msgs.doc2bow(msg))"
   ]
  },
  {
   "cell_type": "code",
   "execution_count": 13,
   "id": "7a3b57b9",
   "metadata": {},
   "outputs": [],
   "source": [
    "# Crear matriz de caracteristicas BOW\n",
    "X_bow = np.zeros((len(corpus), len(dict_msgs)), dtype = np.int32)\n",
    "\n",
    "# Llenar matriz\n",
    "for i, tweet in enumerate(corpus):\n",
    "    for term in tweet:\n",
    "        X_bow[i][term[0]] = term[1]"
   ]
  },
  {
   "cell_type": "markdown",
   "id": "4d575ce3",
   "metadata": {},
   "source": [
    "#### Dimentionality Reduction (PCA)"
   ]
  },
  {
   "cell_type": "code",
   "execution_count": 14,
   "id": "92f826f1",
   "metadata": {},
   "outputs": [],
   "source": [
    "# OPTIONAL PCA\n",
    "pca = IncrementalPCA(n_components=500, batch_size=10000)\n",
    "X_bow_pca = pca.fit_transform(X_bow)"
   ]
  },
  {
   "cell_type": "markdown",
   "id": "4481af11",
   "metadata": {},
   "source": [
    "### Modelo Word2Vec"
   ]
  },
  {
   "cell_type": "code",
   "execution_count": null,
   "id": "401649cf",
   "metadata": {},
   "outputs": [],
   "source": []
  },
  {
   "cell_type": "markdown",
   "id": "5f175705",
   "metadata": {},
   "source": [
    "### Modelo Deep (Transformer Pre-Entrenado)"
   ]
  },
  {
   "cell_type": "code",
   "execution_count": null,
   "id": "77ab49bd",
   "metadata": {},
   "outputs": [],
   "source": []
  },
  {
   "cell_type": "markdown",
   "id": "a1396aa3",
   "metadata": {},
   "source": [
    "# Selección de Modelo"
   ]
  },
  {
   "cell_type": "code",
   "execution_count": 15,
   "id": "9de1abf8",
   "metadata": {},
   "outputs": [],
   "source": [
    "from sklearn.model_selection import train_test_split\n",
    "from sklearn.linear_model import LogisticRegression\n",
    "from sklearn.tree import DecisionTreeClassifier\n",
    "from sklearn.ensemble import RandomForestClassifier\n",
    "from sklearn import metrics"
   ]
  },
  {
   "cell_type": "code",
   "execution_count": 16,
   "id": "c0af7a3b",
   "metadata": {},
   "outputs": [],
   "source": [
    "def train_test_models(model, X, y, model_id='Model'):\n",
    "    \"\"\" Entrena y prueba modelo de clasificación binaria.\n",
    "    \n",
    "    Args:\n",
    "        model (model): Modelo a ser entrenado y probado.\n",
    "        X (np.array): Representación de los mensajes en vectores (BOW, Word2Vec, DeepEmbeddings)\n",
    "        y (np.array): Etiqueta de la clase (0 o 1)\n",
    "        model_id (str): Id para identificar modelo\n",
    "    \n",
    "    Returns:\n",
    "        results (dict): Metricas de evaluación \n",
    "    \n",
    "    \"\"\"\n",
    "    # Separar data en train y test\n",
    "    X_train, X_test, y_train, y_test = train_test_split(X, y, test_size=0.2, random_state=31)\n",
    "    \n",
    "    # Train\n",
    "    model.fit(X_train, y_train)\n",
    "    \n",
    "    # Predict\n",
    "    y_pred = model.predict(X_test)\n",
    "    \n",
    "    # Metricas de performance\n",
    "    accuracy = metrics.accuracy_score(y_test, y_pred)\n",
    "    precision = metrics.precision_score(y_test, y_pred)\n",
    "    recall = metrics.recall_score(y_test, y_pred)\n",
    "    f1_score = metrics.f1_score(y_test, y_pred)\n",
    "    \n",
    "    # Resultados\n",
    "    results = {'ID':model_id, 'Accuracy': accuracy,\n",
    "               'Precision': precision, 'Recall': recall, 'F1 Score': f1_score}\n",
    "    \n",
    "    return results"
   ]
  },
  {
   "cell_type": "markdown",
   "id": "281c6f35",
   "metadata": {},
   "source": [
    "## Decision Trees"
   ]
  },
  {
   "cell_type": "code",
   "execution_count": 17,
   "id": "20b2dc64",
   "metadata": {},
   "outputs": [],
   "source": [
    "DT_Clf = DecisionTreeClassifier()\n",
    "\n",
    "# BOW\n",
    "#results = train_test_models(DT_Clf, X_bow, y, model_id='DT-BOW')\n",
    "#results_df = pd.DataFrame.from_dict([results])\n",
    "\n",
    "results = train_test_models(DT_Clf, X_bow_pca, y, model_id='DT-BOW-PCA')\n",
    "results_df = pd.DataFrame.from_dict([results])\n",
    "\n",
    "# Word2Vec\n",
    "# results = train_test_models(DT_Clf, X_w2v, y, clf_id='DT-W2V')\n",
    "# results_df = results_df.append(results, ignore_index=True)"
   ]
  },
  {
   "cell_type": "markdown",
   "id": "1d31b99f",
   "metadata": {},
   "source": [
    "## RandomForest"
   ]
  },
  {
   "cell_type": "code",
   "execution_count": 18,
   "id": "9f9a4f87",
   "metadata": {},
   "outputs": [
    {
     "name": "stderr",
     "output_type": "stream",
     "text": [
      "[Parallel(n_jobs=-2)]: Using backend ThreadingBackend with 11 concurrent workers.\n",
      "[Parallel(n_jobs=-2)]: Done  28 tasks      | elapsed:    9.1s\n",
      "[Parallel(n_jobs=-2)]: Done 100 out of 100 | elapsed:   26.7s finished\n",
      "[Parallel(n_jobs=11)]: Using backend ThreadingBackend with 11 concurrent workers.\n",
      "[Parallel(n_jobs=11)]: Done  28 tasks      | elapsed:    0.0s\n",
      "[Parallel(n_jobs=11)]: Done 100 out of 100 | elapsed:    0.0s finished\n",
      "[Parallel(n_jobs=-2)]: Using backend ThreadingBackend with 11 concurrent workers.\n",
      "[Parallel(n_jobs=-2)]: Done  28 tasks      | elapsed:    1.7s\n",
      "[Parallel(n_jobs=-2)]: Done 100 out of 100 | elapsed:    5.6s finished\n",
      "[Parallel(n_jobs=11)]: Using backend ThreadingBackend with 11 concurrent workers.\n",
      "[Parallel(n_jobs=11)]: Done  28 tasks      | elapsed:    0.0s\n",
      "[Parallel(n_jobs=11)]: Done 100 out of 100 | elapsed:    0.0s finished\n"
     ]
    }
   ],
   "source": [
    "RF_Clf = RandomForestClassifier(verbose=1, n_jobs=-2)\n",
    "\n",
    "# BOW\n",
    "results = train_test_models(RF_Clf, X_bow, y, model_id='RF-BOW')\n",
    "results_df = results_df.append(results, ignore_index=True)\n",
    "\n",
    "results = train_test_models(RF_Clf, X_bow_pca, y, model_id='RF-BOW-PCA')\n",
    "results_df = results_df.append(results, ignore_index=True)\n",
    "\n",
    "# Word2Vec\n",
    "# results = train_test_models(RF_Clf, X_w2v, y, clf_id='RF-W2V')\n",
    "# results_df = results_df.append(results, ignore_index=True)"
   ]
  },
  {
   "cell_type": "markdown",
   "id": "3e2c4764",
   "metadata": {},
   "source": [
    "## XGBoost"
   ]
  },
  {
   "cell_type": "code",
   "execution_count": null,
   "id": "a0c3e105",
   "metadata": {},
   "outputs": [],
   "source": []
  },
  {
   "cell_type": "markdown",
   "id": "52969d41",
   "metadata": {},
   "source": [
    "# Resultados"
   ]
  },
  {
   "cell_type": "code",
   "execution_count": 19,
   "id": "e7d7990b",
   "metadata": {},
   "outputs": [
    {
     "data": {
      "text/html": [
       "<div>\n",
       "<style scoped>\n",
       "    .dataframe tbody tr th:only-of-type {\n",
       "        vertical-align: middle;\n",
       "    }\n",
       "\n",
       "    .dataframe tbody tr th {\n",
       "        vertical-align: top;\n",
       "    }\n",
       "\n",
       "    .dataframe thead th {\n",
       "        text-align: right;\n",
       "    }\n",
       "</style>\n",
       "<table border=\"1\" class=\"dataframe\">\n",
       "  <thead>\n",
       "    <tr style=\"text-align: right;\">\n",
       "      <th></th>\n",
       "      <th>ID</th>\n",
       "      <th>Accuracy</th>\n",
       "      <th>Precision</th>\n",
       "      <th>Recall</th>\n",
       "      <th>F1 Score</th>\n",
       "    </tr>\n",
       "  </thead>\n",
       "  <tbody>\n",
       "    <tr>\n",
       "      <th>0</th>\n",
       "      <td>DT-BOW-PCA</td>\n",
       "      <td>0.85325</td>\n",
       "      <td>0.828676</td>\n",
       "      <td>0.817256</td>\n",
       "      <td>0.822926</td>\n",
       "    </tr>\n",
       "    <tr>\n",
       "      <th>1</th>\n",
       "      <td>RF-BOW</td>\n",
       "      <td>0.94750</td>\n",
       "      <td>0.967928</td>\n",
       "      <td>0.904134</td>\n",
       "      <td>0.934944</td>\n",
       "    </tr>\n",
       "    <tr>\n",
       "      <th>2</th>\n",
       "      <td>RF-BOW-PCA</td>\n",
       "      <td>0.90975</td>\n",
       "      <td>0.946112</td>\n",
       "      <td>0.831037</td>\n",
       "      <td>0.884848</td>\n",
       "    </tr>\n",
       "  </tbody>\n",
       "</table>\n",
       "</div>"
      ],
      "text/plain": [
       "           ID  Accuracy  Precision    Recall  F1 Score\n",
       "0  DT-BOW-PCA   0.85325   0.828676  0.817256  0.822926\n",
       "1      RF-BOW   0.94750   0.967928  0.904134  0.934944\n",
       "2  RF-BOW-PCA   0.90975   0.946112  0.831037  0.884848"
      ]
     },
     "execution_count": 19,
     "metadata": {},
     "output_type": "execute_result"
    }
   ],
   "source": [
    "results_df"
   ]
  },
  {
   "cell_type": "code",
   "execution_count": null,
   "id": "7595a82e",
   "metadata": {},
   "outputs": [],
   "source": []
  }
 ],
 "metadata": {
  "kernelspec": {
   "display_name": "Python 3",
   "language": "python",
   "name": "python3"
  },
  "language_info": {
   "codemirror_mode": {
    "name": "ipython",
    "version": 3
   },
   "file_extension": ".py",
   "mimetype": "text/x-python",
   "name": "python",
   "nbconvert_exporter": "python",
   "pygments_lexer": "ipython3",
   "version": "3.8.8"
  }
 },
 "nbformat": 4,
 "nbformat_minor": 5
}
